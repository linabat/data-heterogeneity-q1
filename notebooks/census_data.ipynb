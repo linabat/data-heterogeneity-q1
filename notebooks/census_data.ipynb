{
 "cells": [
  {
   "cell_type": "code",
   "execution_count": 1,
   "id": "32e9a1ed",
   "metadata": {},
   "outputs": [
    {
     "name": "stdout",
     "output_type": "stream",
     "text": [
      "Defaulting to user installation because normal site-packages is not writeable\n",
      "Requirement already satisfied: folktables in /home/lbattikha/.local/lib/python3.11/site-packages (0.0.12)\n",
      "Requirement already satisfied: numpy in /opt/conda/lib/python3.11/site-packages (from folktables) (1.26.4)\n",
      "Requirement already satisfied: pandas in /opt/conda/lib/python3.11/site-packages (from folktables) (2.2.2)\n",
      "Requirement already satisfied: requests in /opt/conda/lib/python3.11/site-packages (from folktables) (2.32.3)\n",
      "Requirement already satisfied: scikit-learn in /opt/conda/lib/python3.11/site-packages (from folktables) (1.4.2)\n",
      "Requirement already satisfied: python-dateutil>=2.8.2 in /opt/conda/lib/python3.11/site-packages (from pandas->folktables) (2.9.0)\n",
      "Requirement already satisfied: pytz>=2020.1 in /opt/conda/lib/python3.11/site-packages (from pandas->folktables) (2024.1)\n",
      "Requirement already satisfied: tzdata>=2022.7 in /opt/conda/lib/python3.11/site-packages (from pandas->folktables) (2024.1)\n",
      "Requirement already satisfied: charset-normalizer<4,>=2 in /opt/conda/lib/python3.11/site-packages (from requests->folktables) (3.3.2)\n",
      "Requirement already satisfied: idna<4,>=2.5 in /opt/conda/lib/python3.11/site-packages (from requests->folktables) (3.7)\n",
      "Requirement already satisfied: urllib3<3,>=1.21.1 in /opt/conda/lib/python3.11/site-packages (from requests->folktables) (2.2.1)\n",
      "Requirement already satisfied: certifi>=2017.4.17 in /opt/conda/lib/python3.11/site-packages (from requests->folktables) (2024.8.30)\n",
      "Requirement already satisfied: scipy>=1.6.0 in /opt/conda/lib/python3.11/site-packages (from scikit-learn->folktables) (1.13.0)\n",
      "Requirement already satisfied: joblib>=1.2.0 in /opt/conda/lib/python3.11/site-packages (from scikit-learn->folktables) (1.4.0)\n",
      "Requirement already satisfied: threadpoolctl>=2.0.0 in /opt/conda/lib/python3.11/site-packages (from scikit-learn->folktables) (3.4.0)\n",
      "Requirement already satisfied: six>=1.5 in /opt/conda/lib/python3.11/site-packages (from python-dateutil>=2.8.2->pandas->folktables) (1.16.0)\n"
     ]
    }
   ],
   "source": [
    "!pip install folktables"
   ]
  },
  {
   "cell_type": "code",
   "execution_count": 2,
   "id": "39c5a462-4c37-46c2-8478-5607da460746",
   "metadata": {},
   "outputs": [],
   "source": [
    "from folktables import ACSDataSource, ACSEmployment, ACSIncome\n",
    "from sklearn.preprocessing import StandardScaler\n",
    "from sklearn.cluster import KMeans\n",
    "import matplotlib.pyplot as plt\n",
    "import pandas as pd\n",
    "from sklearn.decomposition import PCA\n",
    "from sklearn.pipeline import make_pipeline\n",
    "import numpy as np"
   ]
  },
  {
   "cell_type": "code",
   "execution_count": 3,
   "id": "bd217d97-3c3d-488d-ba4a-7e3ba7bf3b8a",
   "metadata": {},
   "outputs": [],
   "source": [
    "data_source = ACSDataSource(survey_year='2018', horizon='1-Year', survey='person')\n",
    "ca_acs_data = data_source.get_data(states=[\"CA\"], download=True)\n",
    "ca_features, ca_label, ca_group = ACSIncome.df_to_numpy(ca_acs_data)\n",
    "\n",
    "\n",
    "pr_acs_data = data_source.get_data(states=[\"PR\"], download=True)\n",
    "pr_features, pr_label, pr_group = ACSIncome.df_to_numpy(pr_acs_data)\n",
    "\n",
    "sd_acs_data = data_source.get_data(states=[\"SD\"], download=True)\n",
    "sd_features, sd_label, sd_group = ACSIncome.df_to_numpy(sd_acs_data)"
   ]
  },
  {
   "cell_type": "code",
   "execution_count": 4,
   "id": "e5fda1a8-b09a-44e1-9124-8deb753b6353",
   "metadata": {},
   "outputs": [],
   "source": [
    "# Define a helper function to get the specified proportion of data from a dataset.\n",
    "def get_split(data, labels, groups, proportion):\n",
    "    n = int(len(data) * proportion)\n",
    "    indices = np.random.choice(len(data), n, replace=False)\n",
    "    return data[indices], labels[indices], groups[indices]\n",
    "\n",
    "# Split proportions for training\n",
    "split_ratios = [\n",
    "    {\"PR\": 0.2, \"CA\": 0.8},\n",
    "    {\"SD\": 0.2, \"CA\": 0.8},\n",
    "    {\"PR\": 0.2, \"SD\": 0.2, \"CA\": 0.6}\n",
    "]\n",
    "\n",
    "# Initialize lists to store training splits\n",
    "train_features_splits = []\n",
    "train_labels_splits = []\n",
    "train_groups_splits = []\n",
    "\n",
    "# Generate each training split based on the specified ratios\n",
    "for split in split_ratios:\n",
    "    split_features = []\n",
    "    split_labels = []\n",
    "    split_groups = []\n",
    "    \n",
    "    for state, ratio in split.items():\n",
    "        if state == \"CA\":\n",
    "            features, labels, groups = get_split(ca_features, ca_label, ca_group, ratio)\n",
    "        elif state == \"PR\":\n",
    "            features, labels, groups = get_split(pr_features, pr_label, pr_group, ratio)\n",
    "        elif state == \"SD\":\n",
    "            features, labels, groups = get_split(sd_features, sd_label, sd_group, ratio)\n",
    "        \n",
    "        split_features.append(features)\n",
    "        split_labels.append(labels)\n",
    "        split_groups.append(groups)\n",
    "    \n",
    "    # Concatenate each state's split to form the full synthetic split\n",
    "    train_features_splits.append(np.concatenate(split_features))\n",
    "    train_labels_splits.append(np.concatenate(split_labels))\n",
    "    train_groups_splits.append(np.concatenate(split_groups))\n",
    "\n",
    "# Define test split with 90% PR, 5% SD, and 5% CA\n",
    "test_pr_features, test_pr_labels, test_pr_groups = get_split(pr_features, pr_label, pr_group, 0.9)\n",
    "test_sd_features, test_sd_labels, test_sd_groups = get_split(sd_features, sd_label, sd_group, 0.05)\n",
    "test_ca_features, test_ca_labels, test_ca_groups = get_split(ca_features, ca_label, ca_group, 0.05)\n",
    "\n",
    "# Combine to form the test set\n",
    "test_features = np.concatenate([test_pr_features, test_sd_features, test_ca_features])\n",
    "test_labels = np.concatenate([test_pr_labels, test_sd_labels, test_ca_labels])\n",
    "test_groups = np.concatenate([test_pr_groups, test_sd_groups])"
   ]
  },
  {
   "cell_type": "code",
   "execution_count": 5,
   "id": "ee32782a",
   "metadata": {},
   "outputs": [
    {
     "data": {
      "text/plain": [
       "[array([[34.,  4., 22., ..., 42.,  2.,  1.],\n",
       "        [54.,  1., 19., ..., 40.,  1.,  1.],\n",
       "        [32.,  1., 19., ..., 40.,  1.,  1.],\n",
       "        ...,\n",
       "        [48.,  1.,  7., ...,  6.,  2.,  8.],\n",
       "        [33.,  2., 22., ..., 40.,  2.,  6.],\n",
       "        [56.,  1., 15., ..., 40.,  2.,  6.]]),\n",
       " array([[57.,  1., 16., ..., 40.,  2.,  1.],\n",
       "        [30.,  1., 20., ..., 50.,  1.,  1.],\n",
       "        [50.,  1., 21., ..., 45.,  2.,  1.],\n",
       "        ...,\n",
       "        [46.,  6., 22., ..., 40.,  1.,  1.],\n",
       "        [56.,  6., 21., ..., 10.,  2.,  6.],\n",
       "        [42.,  2., 22., ..., 40.,  2.,  8.]]),\n",
       " array([[55.,  1., 16., ..., 40.,  2.,  1.],\n",
       "        [67.,  4., 20., ..., 20.,  2.,  8.],\n",
       "        [27.,  1., 20., ..., 30.,  1.,  1.],\n",
       "        ...,\n",
       "        [63.,  2., 18., ..., 35.,  2.,  1.],\n",
       "        [41.,  1., 16., ..., 48.,  1.,  1.],\n",
       "        [73.,  2., 19., ..., 20.,  1.,  1.]])]"
      ]
     },
     "execution_count": 5,
     "metadata": {},
     "output_type": "execute_result"
    }
   ],
   "source": [
    "train_features_splits"
   ]
  },
  {
   "cell_type": "code",
   "execution_count": 6,
   "id": "5fdf09bd",
   "metadata": {},
   "outputs": [],
   "source": [
    "from sklearn.linear_model import LogisticRegression\n",
    "from sklearn.metrics import accuracy_score\n",
    "from sklearn.metrics import classification_report, confusion_matrix\n",
    "from sklearn.mixture import GaussianMixture \n",
    "from sklearn.cluster import KMeans \n",
    "\n",
    "\n"
   ]
  },
  {
   "cell_type": "code",
   "execution_count": 7,
   "id": "74fee7cd",
   "metadata": {},
   "outputs": [
    {
     "name": "stdout",
     "output_type": "stream",
     "text": [
      "Train Data 0, Accuracy on test set:, 0.7615722924683892, Classification Report:              precision    recall  f1-score   support\n",
      "\n",
      "       False       0.88      0.77      0.82     13209\n",
      "        True       0.55      0.73      0.63      4981\n",
      "\n",
      "    accuracy                           0.76     18190\n",
      "   macro avg       0.72      0.75      0.73     18190\n",
      "weighted avg       0.79      0.76      0.77     18190\n",
      "\n",
      "Train Data 1, Accuracy on test set:, 0.7610775151181968, Classification Report:              precision    recall  f1-score   support\n",
      "\n",
      "       False       0.89      0.77      0.82     13209\n",
      "        True       0.55      0.74      0.63      4981\n",
      "\n",
      "    accuracy                           0.76     18190\n",
      "   macro avg       0.72      0.75      0.73     18190\n",
      "weighted avg       0.79      0.76      0.77     18190\n",
      "\n",
      "Train Data 2, Accuracy on test set:, 0.7630566245189665, Classification Report:              precision    recall  f1-score   support\n",
      "\n",
      "       False       0.88      0.78      0.83     13209\n",
      "        True       0.55      0.73      0.63      4981\n",
      "\n",
      "    accuracy                           0.76     18190\n",
      "   macro avg       0.72      0.75      0.73     18190\n",
      "weighted avg       0.79      0.76      0.77     18190\n",
      "\n"
     ]
    }
   ],
   "source": [
    "def run_logstic_regression(train_set_num): \n",
    "\n",
    "    # Initialize the logistic regression model with a pipeline\n",
    "    model_lg = make_pipeline(StandardScaler(), LogisticRegression())\n",
    "\n",
    "    # Example: Training on the first synthetic split and testing on the test set\n",
    "    # (You can repeat this for the other training splits if needed)\n",
    "    train_features = train_features_splits[train_set_num]  # Use the first synthetic split as an example\n",
    "    train_labels = train_labels_splits[train_set_num]\n",
    "\n",
    "    # Train the model\n",
    "    model_lg.fit(train_features, train_labels)\n",
    "\n",
    "    # Predict on the test set\n",
    "    yhat = model_lg.predict(test_features)\n",
    "\n",
    "    # Evaluate accuracy\n",
    "    accuracy = accuracy_score(test_labels, yhat)\n",
    "    report = classification_report(test_labels, yhat)\n",
    "\n",
    "    return(f\"Train Data {train_set_num}, Accuracy on test set:, {accuracy}, Classification Report:{report}\")\n",
    "\n",
    "print(run_logstic_regression(0))\n",
    "print(run_logstic_regression(1))\n",
    "print(run_logstic_regression(2))"
   ]
  },
  {
   "cell_type": "code",
   "execution_count": 8,
   "id": "cf9cd7b5",
   "metadata": {},
   "outputs": [
    {
     "name": "stdout",
     "output_type": "stream",
     "text": [
      "Train Data 0, Accuracy on test set:, 0.44650907091808684, Classification Report:              precision    recall  f1-score   support\n",
      "\n",
      "       False       0.64      0.55      0.59     13209\n",
      "        True       0.12      0.17      0.14      4981\n",
      "\n",
      "    accuracy                           0.45     18190\n",
      "   macro avg       0.38      0.36      0.37     18190\n",
      "weighted avg       0.50      0.45      0.47     18190\n",
      "\n",
      "Train Data 1, Accuracy on test set:, 0.4464540956569544, Classification Report:              precision    recall  f1-score   support\n",
      "\n",
      "       False       0.64      0.55      0.59     13209\n",
      "        True       0.12      0.17      0.14      4981\n",
      "\n",
      "    accuracy                           0.45     18190\n",
      "   macro avg       0.38      0.36      0.37     18190\n",
      "weighted avg       0.50      0.45      0.47     18190\n",
      "\n",
      "Train Data 2, Accuracy on test set:, 0.4759208356239692, Classification Report:              precision    recall  f1-score   support\n",
      "\n",
      "       False       0.69      0.50      0.58     13209\n",
      "        True       0.24      0.41      0.30      4981\n",
      "\n",
      "    accuracy                           0.48     18190\n",
      "   macro avg       0.46      0.45      0.44     18190\n",
      "weighted avg       0.57      0.48      0.50     18190\n",
      "\n"
     ]
    }
   ],
   "source": [
    "def run_kmeans(train_set_num): \n",
    "\n",
    "    # Initialize the logistic regression model with a pipeline\n",
    "    model_lg = make_pipeline(StandardScaler(), KMeans(n_clusters = 3))\n",
    "\n",
    "    # Example: Training on the first synthetic split and testing on the test set\n",
    "    # (You can repeat this for the other training splits if needed)\n",
    "    train_features = train_features_splits[train_set_num]  # Use the first synthetic split as an example\n",
    "    train_labels = train_labels_splits[train_set_num]\n",
    "\n",
    "    # Train the model\n",
    "    # check the state that this come from\n",
    "    model_lg.fit(train_features, train_labels)\n",
    "\n",
    "    # Predict on the test set\n",
    "    yhat = model_lg.predict(test_features)\n",
    "\n",
    "    # Evaluate accuracy\n",
    "    accuracy = accuracy_score(test_labels, yhat)\n",
    "    report = classification_report(test_labels, yhat)\n",
    "    return(f\"Train Data {train_set_num}, Accuracy on test set:, {accuracy}, Classification Report:{report}\")\n",
    "\n",
    "print(run_kmeans(0))\n",
    "print(run_kmeans(1))\n",
    "print(run_kmeans(2))"
   ]
  },
  {
   "cell_type": "code",
   "execution_count": 9,
   "id": "1752dcfc",
   "metadata": {},
   "outputs": [
    {
     "name": "stdout",
     "output_type": "stream",
     "text": [
      "Train Data 0, Accuracy on test set:, 0.34409015942825727, Classification Report:              precision    recall  f1-score   support\n",
      "\n",
      "       False       0.59      0.33      0.42     13209\n",
      "        True       0.18      0.39      0.25      4981\n",
      "\n",
      "    accuracy                           0.34     18190\n",
      "   macro avg       0.38      0.36      0.33     18190\n",
      "weighted avg       0.48      0.34      0.37     18190\n",
      "\n",
      "Train Data 1, Accuracy on test set:, 0.6263331500824629, Classification Report:              precision    recall  f1-score   support\n",
      "\n",
      "       False       0.82      0.62      0.71     13209\n",
      "        True       0.39      0.64      0.48      4981\n",
      "\n",
      "    accuracy                           0.63     18190\n",
      "   macro avg       0.61      0.63      0.60     18190\n",
      "weighted avg       0.70      0.63      0.65     18190\n",
      "\n",
      "Train Data 2, Accuracy on test set:, 0.3736668499175371, Classification Report:              precision    recall  f1-score   support\n",
      "\n",
      "       False       0.61      0.38      0.47     13209\n",
      "        True       0.18      0.36      0.24      4981\n",
      "\n",
      "    accuracy                           0.37     18190\n",
      "   macro avg       0.39      0.37      0.35     18190\n",
      "weighted avg       0.49      0.37      0.41     18190\n",
      "\n"
     ]
    }
   ],
   "source": [
    "def run_gmm(train_set_num): \n",
    "\n",
    "    # Initialize the logistic regression model with a pipeline\n",
    "    model_lg = make_pipeline(StandardScaler(), GaussianMixture(n_components = 2))\n",
    "\n",
    "    # Example: Training on the first synthetic split and testing on the test set\n",
    "    # (You can repeat this for the other training splits if needed)\n",
    "    train_features = train_features_splits[train_set_num]  # Use the first synthetic split as an example\n",
    "    train_labels = train_labels_splits[train_set_num]\n",
    "\n",
    "    # Train the model\n",
    "    model_lg.fit(train_features, train_labels)\n",
    "\n",
    "    # Predict on the test set\n",
    "    yhat = model_lg.predict(test_features)\n",
    "\n",
    "    # Evaluate accuracy\n",
    "    accuracy = accuracy_score(test_labels, yhat)\n",
    "    report = classification_report(test_labels, yhat)\n",
    "    return(f\"Train Data {train_set_num}, Accuracy on test set:, {accuracy}, Classification Report:{report}\")\n",
    "\n",
    "print(run_gmm(0))\n",
    "print(run_gmm(1))\n",
    "print(run_gmm(2))"
   ]
  },
  {
   "cell_type": "code",
   "execution_count": 10,
   "id": "2733bf85",
   "metadata": {},
   "outputs": [
    {
     "ename": "NameError",
     "evalue": "name 'folktables' is not defined",
     "output_type": "error",
     "traceback": [
      "\u001b[0;31m---------------------------------------------------------------------------\u001b[0m",
      "\u001b[0;31mNameError\u001b[0m                                 Traceback (most recent call last)",
      "Cell \u001b[0;32mIn[10], line 4\u001b[0m\n\u001b[1;32m      1\u001b[0m \u001b[38;5;66;03m# Want to also predict disability --> will just k-means clustering\u001b[39;00m\n\u001b[1;32m      2\u001b[0m \n\u001b[1;32m      3\u001b[0m \u001b[38;5;66;03m### DON'T KNOW WHAT WOULD BE THE BEST WAY TO CHOOSE FEATURES\u001b[39;00m\n\u001b[0;32m----> 4\u001b[0m ACSIncomeNew \u001b[38;5;241m=\u001b[39m \u001b[43mfolktables\u001b[49m\u001b[38;5;241m.\u001b[39mBasicProblem(\n\u001b[1;32m      5\u001b[0m     features\u001b[38;5;241m=\u001b[39m[\n\u001b[1;32m      6\u001b[0m         \u001b[38;5;124m'\u001b[39m\u001b[38;5;124mCOW\u001b[39m\u001b[38;5;124m'\u001b[39m,\n\u001b[1;32m      7\u001b[0m         \u001b[38;5;124m'\u001b[39m\u001b[38;5;124mSCHL\u001b[39m\u001b[38;5;124m'\u001b[39m,\n\u001b[1;32m      8\u001b[0m         \u001b[38;5;124m'\u001b[39m\u001b[38;5;124mMAR\u001b[39m\u001b[38;5;124m'\u001b[39m,\n\u001b[1;32m      9\u001b[0m         \u001b[38;5;124m'\u001b[39m\u001b[38;5;124mOCCP\u001b[39m\u001b[38;5;124m'\u001b[39m,\n\u001b[1;32m     10\u001b[0m         \u001b[38;5;124m'\u001b[39m\u001b[38;5;124mPOBP\u001b[39m\u001b[38;5;124m'\u001b[39m,\n\u001b[1;32m     11\u001b[0m         \u001b[38;5;124m'\u001b[39m\u001b[38;5;124mRELP\u001b[39m\u001b[38;5;124m'\u001b[39m,\n\u001b[1;32m     12\u001b[0m         \u001b[38;5;124m'\u001b[39m\u001b[38;5;124mWKHP\u001b[39m\u001b[38;5;124m'\u001b[39m,\n\u001b[1;32m     13\u001b[0m         \u001b[38;5;124m'\u001b[39m\u001b[38;5;124mSEX\u001b[39m\u001b[38;5;124m'\u001b[39m,\n\u001b[1;32m     14\u001b[0m         \u001b[38;5;124m'\u001b[39m\u001b[38;5;124mRAC1P\u001b[39m\u001b[38;5;124m'\u001b[39m,\n\u001b[1;32m     15\u001b[0m     ],\n\u001b[1;32m     16\u001b[0m     target\u001b[38;5;241m=\u001b[39m\u001b[38;5;124m'\u001b[39m\u001b[38;5;124mPINCP\u001b[39m\u001b[38;5;124m'\u001b[39m,\n\u001b[1;32m     17\u001b[0m     target_transform\u001b[38;5;241m=\u001b[39m\u001b[38;5;28;01mlambda\u001b[39;00m x: x \u001b[38;5;241m>\u001b[39m \u001b[38;5;241m25000\u001b[39m,    \n\u001b[1;32m     18\u001b[0m     group\u001b[38;5;241m=\u001b[39m\u001b[38;5;124m'\u001b[39m\u001b[38;5;124mSEX\u001b[39m\u001b[38;5;124m'\u001b[39m,\n\u001b[1;32m     19\u001b[0m     preprocess\u001b[38;5;241m=\u001b[39mfolktables\u001b[38;5;241m.\u001b[39madult_filter,\n\u001b[1;32m     20\u001b[0m     postprocess\u001b[38;5;241m=\u001b[39m\u001b[38;5;28;01mlambda\u001b[39;00m x: np\u001b[38;5;241m.\u001b[39mnan_to_num(x, \u001b[38;5;241m-\u001b[39m\u001b[38;5;241m1\u001b[39m),\n\u001b[1;32m     21\u001b[0m )\n",
      "\u001b[0;31mNameError\u001b[0m: name 'folktables' is not defined"
     ]
    }
   ],
   "source": [
    "# Want to also predict disability --> will just k-means clustering\n",
    "\n",
    "### DON'T KNOW WHAT WOULD BE THE BEST WAY TO CHOOSE FEATURES\n",
    "ACSIncomeNew = folktables.BasicProblem(\n",
    "    features=[\n",
    "        'COW',\n",
    "        'SCHL',\n",
    "        'MAR',\n",
    "        'OCCP',\n",
    "        'POBP',\n",
    "        'RELP',\n",
    "        'WKHP',\n",
    "        'SEX',\n",
    "        'RAC1P',\n",
    "    ],\n",
    "    target='PINCP',\n",
    "    target_transform=lambda x: x > 25000,    \n",
    "    group='SEX',\n",
    "    preprocess=folktables.adult_filter,\n",
    "    postprocess=lambda x: np.nan_to_num(x, -1),\n",
    ")"
   ]
  }
 ],
 "metadata": {
  "kernelspec": {
   "display_name": "Python 3 (ipykernel)",
   "language": "python",
   "name": "python3"
  },
  "language_info": {
   "codemirror_mode": {
    "name": "ipython",
    "version": 3
   },
   "file_extension": ".py",
   "mimetype": "text/x-python",
   "name": "python",
   "nbconvert_exporter": "python",
   "pygments_lexer": "ipython3",
   "version": "3.11.9"
  }
 },
 "nbformat": 4,
 "nbformat_minor": 5
}
